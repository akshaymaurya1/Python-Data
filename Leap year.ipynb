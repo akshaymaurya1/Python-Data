{
 "cells": [
  {
   "cell_type": "code",
   "execution_count": 19,
   "id": "b038be12",
   "metadata": {},
   "outputs": [],
   "source": [
    "def is_leap(year):\n",
    "    leap = False\n",
    "    \n",
    "\n",
    "    if year % 400 == 0:\n",
    "        leap = True\n",
    "    elif year % 100 == 0:\n",
    "        leap = False\n",
    "    elif year % 4 == 0:\n",
    "        leap = True\n",
    "    \n",
    "    return leap\n",
    "    \n",
    "\n"
   ]
  },
  {
   "cell_type": "code",
   "execution_count": 20,
   "id": "09e1b5e6",
   "metadata": {},
   "outputs": [
    {
     "data": {
      "text/plain": [
       "False"
      ]
     },
     "execution_count": 20,
     "metadata": {},
     "output_type": "execute_result"
    }
   ],
   "source": [
    "is_leap(1999)"
   ]
  },
  {
   "cell_type": "markdown",
   "id": "86510e96",
   "metadata": {},
   "source": [
    "or"
   ]
  },
  {
   "cell_type": "code",
   "execution_count": 21,
   "id": "689e59de",
   "metadata": {},
   "outputs": [
    {
     "name": "stdout",
     "output_type": "stream",
     "text": [
      "Enter year to check if it is leap year.1990\n",
      "the entered year is,False\n"
     ]
    }
   ],
   "source": [
    "n = int(input('Enter year to check if it is leap year.'))\n",
    "if n % 4 == 0 and n%100 != 0:\n",
    "    leap = 'True'\n",
    "elif n % 100 == 0 and n%400==0:\n",
    "    leap = 'True'\n",
    "else:\n",
    "    leap = 'False'\n",
    "\n",
    "print('the entered year is,'+leap)"
   ]
  },
  {
   "cell_type": "code",
   "execution_count": 8,
   "id": "3c8b4a53",
   "metadata": {},
   "outputs": [
    {
     "name": "stdout",
     "output_type": "stream",
     "text": [
      "Enter value3\n",
      "123"
     ]
    }
   ],
   "source": [
    "n=int(input(\"Enter value\"))\n",
    "for i in range(1,n+1):\n",
    "    print(i,end=\"\")"
   ]
  },
  {
   "cell_type": "code",
   "execution_count": null,
   "id": "27bff3b5",
   "metadata": {},
   "outputs": [],
   "source": []
  },
  {
   "cell_type": "code",
   "execution_count": null,
   "id": "811b314c",
   "metadata": {},
   "outputs": [],
   "source": []
  }
 ],
 "metadata": {
  "kernelspec": {
   "display_name": "Python 3 (ipykernel)",
   "language": "python",
   "name": "python3"
  },
  "language_info": {
   "codemirror_mode": {
    "name": "ipython",
    "version": 3
   },
   "file_extension": ".py",
   "mimetype": "text/x-python",
   "name": "python",
   "nbconvert_exporter": "python",
   "pygments_lexer": "ipython3",
   "version": "3.9.12"
  }
 },
 "nbformat": 4,
 "nbformat_minor": 5
}
