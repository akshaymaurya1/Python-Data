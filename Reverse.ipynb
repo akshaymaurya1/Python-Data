{
 "cells": [
  {
   "cell_type": "code",
   "execution_count": 3,
   "id": "d80dc843",
   "metadata": {},
   "outputs": [
    {
     "name": "stdout",
     "output_type": "stream",
     "text": [
      "Please give a number :12345\n",
      "Before revering number is :12345\n",
      "After reverse :54321\n"
     ]
    }
   ],
   "source": [
    "n=int(input(\"Please give a number :\"))\n",
    "print(\"Before revering number is :%d\"%n)\n",
    "reverse=0\n",
    "while n!=0:\n",
    "    reverse=reverse*10 + n%10\n",
    "    n=(n//10)\n",
    "print(\"After reverse :%d\"%reverse)"
   ]
  },
  {
   "cell_type": "code",
   "execution_count": null,
   "id": "80cd4f85",
   "metadata": {},
   "outputs": [],
   "source": []
  }
 ],
 "metadata": {
  "kernelspec": {
   "display_name": "Python 3 (ipykernel)",
   "language": "python",
   "name": "python3"
  },
  "language_info": {
   "codemirror_mode": {
    "name": "ipython",
    "version": 3
   },
   "file_extension": ".py",
   "mimetype": "text/x-python",
   "name": "python",
   "nbconvert_exporter": "python",
   "pygments_lexer": "ipython3",
   "version": "3.9.12"
  }
 },
 "nbformat": 4,
 "nbformat_minor": 5
}
