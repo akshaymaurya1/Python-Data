{
 "cells": [
  {
   "cell_type": "code",
   "execution_count": 20,
   "id": "0d8cba26",
   "metadata": {},
   "outputs": [
    {
     "name": "stdout",
     "output_type": "stream",
     "text": [
      "1\n",
      "2\n",
      "3\n",
      "4\n",
      "5\n",
      "6\n",
      "7\n",
      "8\n",
      "9\n",
      "153\n",
      "370\n",
      "371\n",
      "407\n"
     ]
    }
   ],
   "source": [
    "low=1\n",
    "up=1000\n",
    "for i in range(low, up +1):\n",
    "   pow = len(str(i))\n",
    "   sum = 0\n",
    "   temp = i\n",
    "   while temp > 0:\n",
    "      digits = temp %10\n",
    "      sum += digits ** pow\n",
    "      temp //= 10\n",
    "   if i == sum:\n",
    "      print(i)"
   ]
  },
  {
   "cell_type": "code",
   "execution_count": null,
   "id": "e21cb1ff",
   "metadata": {},
   "outputs": [],
   "source": [
    "#or"
   ]
  },
  {
   "cell_type": "code",
   "execution_count": 26,
   "id": "a3dec529",
   "metadata": {},
   "outputs": [
    {
     "name": "stdout",
     "output_type": "stream",
     "text": [
      "Enter any positive number :54\n",
      "number is not armstrong number\n"
     ]
    }
   ],
   "source": [
    "number=int(input('Enter any positive number :'))\n",
    "def check_armstrong(num):\n",
    "    if num in range(1,10):\n",
    "        return True\n",
    "    order=len(str(num))\n",
    "    sum=0\n",
    "    original=num\n",
    "    while num>0:\n",
    "        digit=num%10\n",
    "        sum=sum+digit**order\n",
    "        num=num//10\n",
    "    if sum==original:\n",
    "        return True\n",
    "    return False\n",
    "if check_armstrong(number):\n",
    "    print(\"number is armstrong\")\n",
    "else:\n",
    "    print(\"number is not armstrong number\")"
   ]
  },
  {
   "cell_type": "code",
   "execution_count": 22,
   "id": "9cc3f045",
   "metadata": {},
   "outputs": [
    {
     "data": {
      "text/plain": [
       "False"
      ]
     },
     "execution_count": 22,
     "metadata": {},
     "output_type": "execute_result"
    }
   ],
   "source": [
    "check_armstrong(52)"
   ]
  },
  {
   "cell_type": "code",
   "execution_count": null,
   "id": "3f76873a",
   "metadata": {},
   "outputs": [],
   "source": []
  }
 ],
 "metadata": {
  "kernelspec": {
   "display_name": "Python 3 (ipykernel)",
   "language": "python",
   "name": "python3"
  },
  "language_info": {
   "codemirror_mode": {
    "name": "ipython",
    "version": 3
   },
   "file_extension": ".py",
   "mimetype": "text/x-python",
   "name": "python",
   "nbconvert_exporter": "python",
   "pygments_lexer": "ipython3",
   "version": "3.9.12"
  }
 },
 "nbformat": 4,
 "nbformat_minor": 5
}
