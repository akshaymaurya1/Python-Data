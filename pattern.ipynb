{
 "cells": [
  {
   "cell_type": "code",
   "execution_count": 1,
   "id": "a19f9676",
   "metadata": {},
   "outputs": [
    {
     "name": "stdout",
     "output_type": "stream",
     "text": [
      "*\n",
      "**\n",
      "***\n",
      "****\n",
      "*****\n",
      "******\n",
      "*******\n",
      "********\n",
      "*********\n",
      "**********\n",
      "***********\n",
      "**********\n",
      "*********\n",
      "********\n",
      "*******\n",
      "******\n",
      "*****\n",
      "****\n",
      "***\n",
      "**\n",
      "*\n"
     ]
    }
   ],
   "source": [
    "line=\"*\"\n",
    "max_length=10\n",
    "\n",
    "while len(line)<=max_length:\n",
    "    print(line)\n",
    "    line +=\"*\"\n",
    "while len(line)>0:\n",
    "    print(line)\n",
    "    line=line[0:-1]"
   ]
  },
  {
   "cell_type": "code",
   "execution_count": 2,
   "id": "f8570805",
   "metadata": {},
   "outputs": [],
   "source": [
    "line='Akshay'"
   ]
  },
  {
   "cell_type": "code",
   "execution_count": 3,
   "id": "6ccb83d1",
   "metadata": {},
   "outputs": [
    {
     "data": {
      "text/plain": [
       "'shay'"
      ]
     },
     "execution_count": 3,
     "metadata": {},
     "output_type": "execute_result"
    }
   ],
   "source": [
    "line[-4:]"
   ]
  },
  {
   "cell_type": "code",
   "execution_count": 4,
   "id": "e93431f0",
   "metadata": {},
   "outputs": [
    {
     "data": {
      "text/plain": [
       "'ksh'"
      ]
     },
     "execution_count": 4,
     "metadata": {},
     "output_type": "execute_result"
    }
   ],
   "source": [
    "a=\"akshay\"\n",
    "a[1:4]\n"
   ]
  },
  {
   "cell_type": "code",
   "execution_count": 5,
   "id": "4d2f5314",
   "metadata": {},
   "outputs": [
    {
     "name": "stdout",
     "output_type": "stream",
     "text": [
      "a\n",
      "aa\n",
      "aaa\n",
      "aaaa\n",
      "aaaaa\n",
      "aaaaaa\n",
      "aaaaaaa\n",
      "aaaaaaaa\n",
      "aaaaaaaaa\n",
      "aaaaaaaaaa\n"
     ]
    }
   ],
   "source": [
    "# i=0\n",
    "# while(1):\n",
    "#     print(i)\n",
    "#     i+=1\n",
    "    \n",
    "line='a'\n",
    "max_length=10\n",
    "\n",
    "while len(line)<=max_length:\n",
    "    print(line)\n",
    "    line+='a'"
   ]
  },
  {
   "cell_type": "code",
   "execution_count": 6,
   "id": "f704283a",
   "metadata": {},
   "outputs": [
    {
     "name": "stdout",
     "output_type": "stream",
     "text": [
      "Enter the number of rows: 5\n",
      "     *\n",
      "    **\n",
      "   ***\n",
      "  ****\n",
      " *****\n"
     ]
    }
   ],
   "source": [
    "row=int(input(\"Enter the number of rows: \"))\n",
    "for i in range(row):\n",
    "    print(\" \"*(row-i) + \"*\"*(i+1))"
   ]
  },
  {
   "cell_type": "code",
   "execution_count": 12,
   "id": "1f21b7cc",
   "metadata": {},
   "outputs": [
    {
     "name": "stdout",
     "output_type": "stream",
     "text": [
      "Magic number 42 reached! Stopping execution..\n",
      "i: 4\n",
      "result: 24\n"
     ]
    }
   ],
   "source": [
    "i=1\n",
    "result=1\n",
    "while i<=100:\n",
    "    result *= i\n",
    "    if i==4:\n",
    "        print('Magic number 42 reached! Stopping execution..')\n",
    "        break\n",
    "    i+=1\n",
    "print('i:',i)\n",
    "print('result:',result)\n",
    "    "
   ]
  },
  {
   "cell_type": "markdown",
   "id": "e45fa49a",
   "metadata": {},
   "source": [
    "#### Sometimes you may not want to end the loop entirely,but simply skip the remaining statements in the loop to continue to the next loop. you can do this by continue statement."
   ]
  },
  {
   "cell_type": "markdown",
   "id": "48d8c247",
   "metadata": {},
   "source": [
    "#### continue means to skip the rest of the statements in the current teration and go back to the top of the iteration\n"
   ]
  },
  {
   "cell_type": "markdown",
   "id": "5510c828",
   "metadata": {},
   "source": [
    "#### At a specific condition terminate loop by break  ex. linear searching"
   ]
  },
  {
   "cell_type": "code",
   "execution_count": null,
   "id": "c8b11b81",
   "metadata": {},
   "outputs": [],
   "source": []
  },
  {
   "cell_type": "code",
   "execution_count": 11,
   "id": "4f69ef11",
   "metadata": {},
   "outputs": [
    {
     "name": "stdout",
     "output_type": "stream",
     "text": [
      "skipping 2\n",
      "Multiplying with 3\n",
      "skipping 4\n",
      "Multiplying with 5\n",
      "skipping 6\n",
      "Multiplying with 7\n",
      "skipping 8\n",
      "Multiplying with 9\n",
      "skipping 10\n",
      "Multiplying with 11\n",
      "skipping 12\n",
      "Multiplying with 13\n",
      "skipping 14\n",
      "Multiplying with 15\n",
      "skipping 16\n",
      "Multiplying with 17\n",
      "skipping 18\n",
      "Multiplying with 19\n",
      "skipping 20\n",
      "i: 20\n",
      "result: 654729075\n"
     ]
    }
   ],
   "source": [
    "i=1\n",
    "result=1\n",
    "while i < 20:\n",
    "    i+=1\n",
    "    if i % 2==0:\n",
    "        print('skipping {}'.format(i))\n",
    "        continue\n",
    "    print('Multiplying with {}'.format(i))\n",
    "    result=result*i\n",
    "print('i:',i)\n",
    "print('result:',result)"
   ]
  },
  {
   "cell_type": "code",
   "execution_count": 7,
   "id": "3b37dc28",
   "metadata": {},
   "outputs": [
    {
     "name": "stdout",
     "output_type": "stream",
     "text": [
      "Enter a number5\n",
      "*    \n",
      "**   \n",
      "* *  \n",
      "*  * \n",
      "*****\n"
     ]
    }
   ],
   "source": [
    "n= int(input(\"Enter a number\"))\n",
    "for row in range(n):\n",
    "    for column in range(n):\n",
    "        if column==0 or row==n-1 or row == column:\n",
    "            print(\"*\",end=\"\")\n",
    "        else:\n",
    "            print(end=\" \")\n",
    "    print('') "
   ]
  },
  {
   "cell_type": "code",
   "execution_count": 9,
   "id": "9fe44987",
   "metadata": {},
   "outputs": [
    {
     "name": "stdout",
     "output_type": "stream",
     "text": [
      "   *   \n",
      "  * *  \n",
      " *   * \n",
      "*******\n"
     ]
    }
   ],
   "source": [
    "for row in range(1,5):\n",
    "    for col in range(1,8):\n",
    "        if row==4 or row+col==5 or col-row==3:\n",
    "            print(\"*\",end=\"\")\n",
    "        else:\n",
    "            print(end=\" \")\n",
    "    print()"
   ]
  },
  {
   "cell_type": "code",
   "execution_count": 8,
   "id": "be35fda6",
   "metadata": {},
   "outputs": [
    {
     "name": "stdout",
     "output_type": "stream",
     "text": [
      "enter the number of rows: 6\n",
      "*\n",
      "**\n",
      "***\n",
      "****\n",
      "*****\n",
      "******\n"
     ]
    }
   ],
   "source": [
    "num=int(input(\"enter the number of rows: \"))\n",
    "for i in range(1,num+1):\n",
    "    for j in range(1,i+1):\n",
    "        print(\"*\",end=\"\")\n",
    "    print()"
   ]
  },
  {
   "cell_type": "code",
   "execution_count": 15,
   "id": "044d1905",
   "metadata": {},
   "outputs": [
    {
     "name": "stdout",
     "output_type": "stream",
     "text": [
      "enter the number of rows: 3\n",
      "* \n",
      "* * * \n",
      "* * * * * \n"
     ]
    }
   ],
   "source": [
    "num=int(input(\"enter the number of rows: \"))\n",
    "k=1\n",
    "for i in range(1,num+1):\n",
    "    for j in range(1,k+1):\n",
    "        print(\"*\",end=\" \")\n",
    "    k=k+2\n",
    "    print(\"\")"
   ]
  },
  {
   "cell_type": "code",
   "execution_count": 19,
   "id": "47e02fc8",
   "metadata": {},
   "outputs": [
    {
     "name": "stdout",
     "output_type": "stream",
     "text": [
      "Enter the number of rows: 4\n",
      "   * \n",
      "  * * \n",
      " * * * \n",
      "* * * * \n"
     ]
    }
   ],
   "source": [
    "num=int(input(\"Enter the number of rows: \"))\n",
    "for i in range(0,num):\n",
    "    for j in range(0,num-i-1):\n",
    "        print(end=\" \")\n",
    "    for j in range(0,i+1):\n",
    "        print(\"*\",end=\" \")\n",
    "    print()"
   ]
  },
  {
   "cell_type": "code",
   "execution_count": 20,
   "id": "e0b60d1b",
   "metadata": {},
   "outputs": [
    {
     "name": "stdout",
     "output_type": "stream",
     "text": [
      "Enter a number: 7\n",
      "* * * * * * * \n",
      " * * * * * * \n",
      "  * * * * * \n",
      "   * * * * \n",
      "    * * * \n",
      "     * * \n",
      "      * \n"
     ]
    }
   ],
   "source": [
    "num=int(input(\"Enter a number: \"))\n",
    "for i in range(num,0,-1):\n",
    "    for j in range(0,num-i):\n",
    "        print(end=\" \")\n",
    "    for j in range(0,i):\n",
    "        print(\"*\",end=\" \")\n",
    "    print()"
   ]
  },
  {
   "cell_type": "code",
   "execution_count": 25,
   "id": "c64f3867",
   "metadata": {},
   "outputs": [
    {
     "name": "stdout",
     "output_type": "stream",
     "text": [
      "* \n",
      "* * \n",
      "* * * \n",
      "* * * * \n",
      "* * * \n",
      "* * \n",
      "* \n",
      "\n"
     ]
    }
   ],
   "source": [
    "def pyramid(rows):\n",
    "    for i in range(rows):\n",
    "        print(''*(rows-i-1) + '* '*(i+1))\n",
    "    for j in range(rows-1,0,-1):\n",
    "        print(''*(rows-j)+'* '*(j))\n",
    "    print()\n",
    "pyramid(4)"
   ]
  },
  {
   "cell_type": "code",
   "execution_count": 26,
   "id": "83299042",
   "metadata": {},
   "outputs": [
    {
     "name": "stdout",
     "output_type": "stream",
     "text": [
      "5\n",
      "     \n",
      "    * \n",
      "   * * \n",
      "  * * * \n",
      " * * * * \n",
      "* * * * * \n",
      " * * * * \n",
      "  * * * \n",
      "   * * \n",
      "    * \n",
      "     \n"
     ]
    }
   ],
   "source": [
    "n=int(input())\n",
    "for x in range(0,n+1):\n",
    "    print(\" \"*(n-x)+\"* \"*(x))\n",
    "for x in range(1,n+1):\n",
    "    print(\" \"*(x)+\"* \"*(n-x))"
   ]
  },
  {
   "cell_type": "code",
   "execution_count": null,
   "id": "b71295b5",
   "metadata": {},
   "outputs": [],
   "source": []
  }
 ],
 "metadata": {
  "kernelspec": {
   "display_name": "Python 3 (ipykernel)",
   "language": "python",
   "name": "python3"
  },
  "language_info": {
   "codemirror_mode": {
    "name": "ipython",
    "version": 3
   },
   "file_extension": ".py",
   "mimetype": "text/x-python",
   "name": "python",
   "nbconvert_exporter": "python",
   "pygments_lexer": "ipython3",
   "version": "3.9.12"
  }
 },
 "nbformat": 4,
 "nbformat_minor": 5
}
